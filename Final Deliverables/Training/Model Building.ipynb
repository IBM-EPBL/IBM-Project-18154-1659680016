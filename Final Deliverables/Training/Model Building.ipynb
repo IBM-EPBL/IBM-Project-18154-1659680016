{
 "cells": [
  {
   "cell_type": "code",
   "execution_count": 1,
   "id": "40be6632",
   "metadata": {},
   "outputs": [],
   "source": [
    "import numpy as np \n",
    "import tensorflow\n",
    "from tensorflow.keras.models import Sequential \n",
    "from tensorflow.keras import layers\n",
    "from tensorflow.keras.layers import Dense, Flatten, Conv2D, MaxPooling2D, Dropout\n",
    "from tensorflow.keras.preprocessing.image import ImageDataGenerator "
   ]
  },
  {
   "cell_type": "code",
   "execution_count": 2,
   "id": "c9883ac1",
   "metadata": {},
   "outputs": [],
   "source": [
    "classifier = Sequential()\n",
    "\n",
    "# First Convolution layer and pooling\n",
    "classifier.add(Conv2D(32,3,3,input_shape=(64,64,3),activation='relu'))\n",
    "classifier.add(MaxPooling2D(pool_size=(2,2)))"
   ]
  },
  {
   "cell_type": "code",
   "execution_count": 3,
   "id": "18eb6dd4",
   "metadata": {},
   "outputs": [],
   "source": [
    "# Second Convolution layer and pooling\n",
    "classifier.add(Conv2D(32,(3,3,), activation='relu'))"
   ]
  },
  {
   "cell_type": "code",
   "execution_count": 4,
   "id": "ef30e108",
   "metadata": {},
   "outputs": [],
   "source": [
    "#input_shape is going to be the pooled feature maps from the previous convolution layer \n",
    "classifier.add(MaxPooling2D(pool_size=(2,2)))"
   ]
  },
  {
   "cell_type": "code",
   "execution_count": 5,
   "id": "b819729d",
   "metadata": {},
   "outputs": [],
   "source": [
    "# Flattening the layers \n",
    "classifier.add(Flatten())"
   ]
  },
  {
   "cell_type": "code",
   "execution_count": 6,
   "id": "c54d4a7b",
   "metadata": {},
   "outputs": [],
   "source": [
    "# Adding a fully connected layer\n",
    "classifier.add(Dense(units=128, activation = 'relu'))\n",
    "classifier.add(Dense(units=5, activation = 'softmax'))"
   ]
  },
  {
   "cell_type": "code",
   "execution_count": 7,
   "id": "1bc21007",
   "metadata": {},
   "outputs": [
    {
     "name": "stdout",
     "output_type": "stream",
     "text": [
      "Model: \"sequential\"\n",
      "_________________________________________________________________\n",
      "Layer (type)                 Output Shape              Param #   \n",
      "=================================================================\n",
      "conv2d (Conv2D)              (None, 21, 21, 32)        896       \n",
      "_________________________________________________________________\n",
      "max_pooling2d (MaxPooling2D) (None, 10, 10, 32)        0         \n",
      "_________________________________________________________________\n",
      "conv2d_1 (Conv2D)            (None, 8, 8, 32)          9248      \n",
      "_________________________________________________________________\n",
      "max_pooling2d_1 (MaxPooling2 (None, 4, 4, 32)          0         \n",
      "_________________________________________________________________\n",
      "flatten (Flatten)            (None, 512)               0         \n",
      "_________________________________________________________________\n",
      "dense (Dense)                (None, 128)               65664     \n",
      "_________________________________________________________________\n",
      "dense_1 (Dense)              (None, 5)                 645       \n",
      "=================================================================\n",
      "Total params: 76,453\n",
      "Trainable params: 76,453\n",
      "Non-trainable params: 0\n",
      "_________________________________________________________________\n"
     ]
    }
   ],
   "source": [
    "# Summary of our model\n",
    "classifier.summary()"
   ]
  },
  {
   "cell_type": "code",
   "execution_count": 8,
   "id": "77a6cf4f",
   "metadata": {},
   "outputs": [],
   "source": [
    "# Compiling the cnn\n",
    "# categorical_crossentropy for more than 2\n",
    "classifier.compile(optimizer='adam',loss='binary_crossentropy',metrics=['accuracy'])"
   ]
  },
  {
   "cell_type": "code",
   "execution_count": 9,
   "id": "9622410c",
   "metadata": {},
   "outputs": [
    {
     "name": "stdout",
     "output_type": "stream",
     "text": [
      "Found 2626 images belonging to 5 classes.\n",
      "Found 1055 images belonging to 5 classes.\n"
     ]
    }
   ],
   "source": [
    "train_datagen = ImageDataGenerator(rescale=1./255,shear_range=0.2,zoom_range=0.2,horizontal_flip=True)\n",
    "test_datagen = ImageDataGenerator(rescale=1./255)\n",
    "\n",
    "x_train=train_datagen.flow_from_directory(r\"D:\\clg\\ibm\\Main Project\\Dataset\\TRAIN_SET\",target_size=(64,64),batch_size=32,class_mode='categorical')\n",
    "x_test=train_datagen.flow_from_directory(r\"D:\\clg\\ibm\\Main Project\\Dataset\\TEST_SET\",target_size=(64,64),batch_size=32,class_mode='categorical')"
   ]
  },
  {
   "cell_type": "code",
   "execution_count": 15,
   "id": "0769ac81",
   "metadata": {},
   "outputs": [
    {
     "name": "stdout",
     "output_type": "stream",
     "text": [
      "Epoch 1/20\n",
      "83/83 [==============================] - 11s 129ms/step - loss: 0.0019 - accuracy: 0.9992 - val_loss: 0.0288 - val_accuracy: 0.9801\n",
      "Epoch 2/20\n",
      "83/83 [==============================] - 11s 130ms/step - loss: 0.0013 - accuracy: 1.0000 - val_loss: 0.0346 - val_accuracy: 0.9754\n",
      "Epoch 3/20\n",
      "83/83 [==============================] - 11s 133ms/step - loss: 6.4207e-04 - accuracy: 1.0000 - val_loss: 0.0464 - val_accuracy: 0.9668\n",
      "Epoch 4/20\n",
      "83/83 [==============================] - 11s 129ms/step - loss: 6.4523e-04 - accuracy: 0.9996 - val_loss: 0.0512 - val_accuracy: 0.9725\n",
      "Epoch 5/20\n",
      "83/83 [==============================] - 11s 129ms/step - loss: 5.0728e-04 - accuracy: 1.0000 - val_loss: 0.0234 - val_accuracy: 0.9810\n",
      "Epoch 6/20\n",
      "83/83 [==============================] - 11s 132ms/step - loss: 2.1527e-04 - accuracy: 1.0000 - val_loss: 0.0356 - val_accuracy: 0.9782\n",
      "Epoch 7/20\n",
      "83/83 [==============================] - 11s 127ms/step - loss: 2.2509e-04 - accuracy: 1.0000 - val_loss: 0.0445 - val_accuracy: 0.9735\n",
      "Epoch 8/20\n",
      "83/83 [==============================] - 11s 129ms/step - loss: 1.7084e-04 - accuracy: 1.0000 - val_loss: 0.0403 - val_accuracy: 0.9735\n",
      "Epoch 9/20\n",
      "83/83 [==============================] - 11s 130ms/step - loss: 2.5679e-04 - accuracy: 1.0000 - val_loss: 0.0347 - val_accuracy: 0.9725\n",
      "Epoch 10/20\n",
      "83/83 [==============================] - 11s 127ms/step - loss: 1.9412e-04 - accuracy: 1.0000 - val_loss: 0.0242 - val_accuracy: 0.9829\n",
      "Epoch 11/20\n",
      "83/83 [==============================] - 11s 128ms/step - loss: 3.6658e-04 - accuracy: 1.0000 - val_loss: 0.0315 - val_accuracy: 0.9754\n",
      "Epoch 12/20\n",
      "83/83 [==============================] - 11s 132ms/step - loss: 8.5288e-05 - accuracy: 1.0000 - val_loss: 0.0377 - val_accuracy: 0.9725\n",
      "Epoch 13/20\n",
      "83/83 [==============================] - 11s 130ms/step - loss: 0.0286 - accuracy: 0.9871 - val_loss: 0.0803 - val_accuracy: 0.9611\n",
      "Epoch 14/20\n",
      "83/83 [==============================] - 11s 134ms/step - loss: 0.0058 - accuracy: 0.9981 - val_loss: 0.0296 - val_accuracy: 0.9659\n",
      "Epoch 15/20\n",
      "83/83 [==============================] - 11s 133ms/step - loss: 5.7383e-04 - accuracy: 1.0000 - val_loss: 0.0503 - val_accuracy: 0.9422\n",
      "Epoch 16/20\n",
      "83/83 [==============================] - 11s 127ms/step - loss: 3.5043e-04 - accuracy: 1.0000 - val_loss: 0.0288 - val_accuracy: 0.9697\n",
      "Epoch 17/20\n",
      "83/83 [==============================] - 11s 127ms/step - loss: 1.4110e-04 - accuracy: 1.0000 - val_loss: 0.0261 - val_accuracy: 0.9754\n",
      "Epoch 18/20\n",
      "83/83 [==============================] - 11s 128ms/step - loss: 1.1980e-04 - accuracy: 1.0000 - val_loss: 0.0255 - val_accuracy: 0.9754\n",
      "Epoch 19/20\n",
      "83/83 [==============================] - 11s 129ms/step - loss: 1.1584e-04 - accuracy: 1.0000 - val_loss: 0.0249 - val_accuracy: 0.9706\n",
      "Epoch 20/20\n",
      "83/83 [==============================] - 11s 128ms/step - loss: 1.0592e-04 - accuracy: 1.0000 - val_loss: 0.0253 - val_accuracy: 0.9725\n"
     ]
    },
    {
     "data": {
      "text/plain": [
       "<tensorflow.python.keras.callbacks.History at 0x1fe119c5fa0>"
      ]
     },
     "execution_count": 15,
     "metadata": {},
     "output_type": "execute_result"
    }
   ],
   "source": [
    "classifier.fit_generator(x_train,steps_per_epoch=len(x_train),  epochs= 20, validation_data=x_test, validation_steps=len(x_test))"
   ]
  },
  {
   "cell_type": "code",
   "execution_count": 16,
   "id": "aa9a7305",
   "metadata": {},
   "outputs": [],
   "source": [
    "classifier.save('nutrition.h5')"
   ]
  },
  {
   "cell_type": "code",
   "execution_count": 17,
   "id": "0bfd6ccc",
   "metadata": {},
   "outputs": [],
   "source": [
    "# predicting the results \n",
    "from tensorflow.keras.models import load_model\n",
    "from tensorflow.keras.preprocessing import image\n",
    "\n",
    "model = load_model(\"nutrition.h5\")"
   ]
  },
  {
   "cell_type": "code",
   "execution_count": 20,
   "id": "7d489d5d",
   "metadata": {},
   "outputs": [
    {
     "data": {
      "text/plain": [
       "array([0], dtype=int64)"
      ]
     },
     "execution_count": 20,
     "metadata": {},
     "output_type": "execute_result"
    }
   ],
   "source": [
    "img = image.load_img(r\"D:\\clg\\ibm\\Main Project\\Dataset\\TEST_SET\\APPLES\\66_100.jpg\", grayscale = False, target_size = (64,64))\n",
    "x = image.img_to_array(img)\n",
    "x = np.expand_dims(x, axis = 0)\n",
    "pred = model.predict_classes(x)\n",
    "pred"
   ]
  },
  {
   "cell_type": "code",
   "execution_count": 21,
   "id": "08c4aae6",
   "metadata": {},
   "outputs": [
    {
     "data": {
      "text/plain": [
       "'APPLES'"
      ]
     },
     "execution_count": 21,
     "metadata": {},
     "output_type": "execute_result"
    }
   ],
   "source": [
    "index = ['APPLES', 'BANANA', 'ORANGE', 'PINEAPPLE', 'WATERMELON']\n",
    "result = str(index[pred[0]])\n",
    "result"
   ]
  },
  {
   "cell_type": "code",
   "execution_count": null,
   "id": "ce8659b1",
   "metadata": {},
   "outputs": [],
   "source": []
  }
 ],
 "metadata": {
  "kernelspec": {
   "display_name": "Python 3 (ipykernel)",
   "language": "python",
   "name": "python3"
  },
  "language_info": {
   "codemirror_mode": {
    "name": "ipython",
    "version": 3
   },
   "file_extension": ".py",
   "mimetype": "text/x-python",
   "name": "python",
   "nbconvert_exporter": "python",
   "pygments_lexer": "ipython3",
   "version": "3.9.13"
  }
 },
 "nbformat": 4,
 "nbformat_minor": 5
}
